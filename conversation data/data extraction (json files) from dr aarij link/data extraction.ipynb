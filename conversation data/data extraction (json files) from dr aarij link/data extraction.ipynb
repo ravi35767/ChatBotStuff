{
 "cells": [
  {
   "cell_type": "markdown",
   "metadata": {},
   "source": [
    "# Just understanding the structure of data (json file)"
   ]
  },
  {
   "cell_type": "code",
   "execution_count": 1,
   "metadata": {},
   "outputs": [],
   "source": [
    "# all Json files download from this site http://convai.io/data/\n",
    "import json\n",
    "with open('new_raw_data1.json') as file_object:\n",
    "    data = json.load(file_object)"
   ]
  },
  {
   "cell_type": "code",
   "execution_count": 2,
   "metadata": {},
   "outputs": [
    {
     "data": {
      "text/plain": [
       "[{'dialog_id': '0xab38710',\n",
       "  'dialog': [{'id': 0,\n",
       "    'sender': 'participant2',\n",
       "    'text': 'I love iphone! i just bought new iphone!',\n",
       "    'sender_class': 'Bot'},\n",
       "   {'id': 1,\n",
       "    'sender': 'participant1',\n",
       "    'text': \"Thats good for you, i'm not very into new tech\",\n",
       "    'sender_class': 'Human'},\n",
       "   {'id': 2,\n",
       "    'sender': 'participant2',\n",
       "    'text': 'I am a college student and i am a college student',\n",
       "    'sender_class': 'Bot'},\n",
       "   {'id': 3,\n",
       "    'sender': 'participant1',\n",
       "    'text': 'I am go to gym and live on donations',\n",
       "    'sender_class': 'Human'},\n",
       "   {'id': 4,\n",
       "    'sender': 'participant2',\n",
       "    'text': 'I am a vegan and i am in the midwest',\n",
       "    'sender_class': 'Bot'},\n",
       "   {'id': 5,\n",
       "    'sender': 'participant1',\n",
       "    'text': 'So vegan... i have dogs maybe i should told then that they may eat cheap salads insted of meat',\n",
       "    'sender_class': 'Human'},\n",
       "   {'id': 6,\n",
       "    'sender': 'participant2',\n",
       "    'text': 'I would not mind having them in the office that would be hard for me',\n",
       "    'sender_class': 'Bot'},\n",
       "   {'id': 7,\n",
       "    'sender': 'participant1',\n",
       "    'text': 'Dogs or vegan in office?',\n",
       "    'sender_class': 'Human'},\n",
       "   {'id': 8,\n",
       "    'sender': 'participant2',\n",
       "    'text': 'I am a vegetarian so i am vegan',\n",
       "    'sender_class': 'Bot'},\n",
       "   {'id': 9,\n",
       "    'sender': 'participant1',\n",
       "    'text': 'Strange answer',\n",
       "    'sender_class': 'Human'},\n",
       "   {'id': 10,\n",
       "    'sender': 'participant2',\n",
       "    'text': 'I guess i just do not know what to ps4 experience with.',\n",
       "    'sender_class': 'Bot'}],\n",
       "  'bot_profile': ['i have amazing children and grandchildren.',\n",
       "   'i can sew my own clothes.',\n",
       "   'i had cancer but its gone now.',\n",
       "   'i am retired and living the great life.',\n",
       "   'i do not have a smartphone.'],\n",
       "  'user_profile': ['two dogs live with me.',\n",
       "   'i like doing the treadmill and rowing machine.',\n",
       "   \"eating is something i do when i'm bored.\",\n",
       "   'i have short hair.',\n",
       "   'i go to the gym regularly.'],\n",
       "  'eval_score': 1,\n",
       "  'profile_match': 0},\n",
       " {'dialog_id': '0x223f6d5e',\n",
       "  'dialog': [{'id': 0,\n",
       "    'sender': 'participant1',\n",
       "    'text': 'Hello',\n",
       "    'sender_class': 'Human'},\n",
       "   {'id': 1,\n",
       "    'sender': 'participant1',\n",
       "    'text': '/test',\n",
       "    'sender_class': 'Human'}],\n",
       "  'bot_profile': ['my father was a door to door salesman.',\n",
       "   \"i've three dogs.\",\n",
       "   'i am in an open polyamorous relationship.',\n",
       "   'i also have a dog walking business.'],\n",
       "  'user_profile': [\"if i'm not cooking in the kitchen then i'm definitely on the water.\",\n",
       "   'spiderman is my favorite.',\n",
       "   'hey my name is larry and i am a chef.',\n",
       "   'l also love comic books.',\n",
       "   'i love cooking but i also enjoy fishing.'],\n",
       "  'eval_score': 1,\n",
       "  'profile_match': 1},\n",
       " {'dialog_id': '0x6789b32a',\n",
       "  'dialog': [{'id': 0,\n",
       "    'sender': 'participant1',\n",
       "    'text': 'Hey',\n",
       "    'sender_class': 'Human'},\n",
       "   {'id': 1,\n",
       "    'sender': 'participant1',\n",
       "    'text': 'What do you do?',\n",
       "    'sender_class': 'Human'}],\n",
       "  'bot_profile': ['i am a gold medalist olympian.',\n",
       "   'i love italian food and garlic bread.',\n",
       "   'my favorite color is yellow.',\n",
       "   'gymnastics is my favorite sport.',\n",
       "   'i workout four hours a day.'],\n",
       "  'user_profile': [\"i've a german shepherd dog.\",\n",
       "   'i live is a rural farming community.',\n",
       "   'my husband is adopted.',\n",
       "   'i like to watch nhl hockey.'],\n",
       "  'eval_score': 1,\n",
       "  'profile_match': 1},\n",
       " {'dialog_id': '0x7304a92a',\n",
       "  'dialog': [{'id': 0,\n",
       "    'sender': 'participant2',\n",
       "    'text': 'I love painting, i love to paint',\n",
       "    'sender_class': 'Bot'}],\n",
       "  'bot_profile': ['i fantasize about taking over the world.',\n",
       "   \"i'm a 56 year old woman.\",\n",
       "   'i have two grown children who never visit.',\n",
       "   'i used to be a painter but now i am a housekeeper.'],\n",
       "  'user_profile': ['i like watching war documentaries.',\n",
       "   'i volunteer at a soup kitchen.',\n",
       "   'cheeseburgers are my favorite food.',\n",
       "   'i was poor growing up.',\n",
       "   \"i'm a retired gym teacher.\"],\n",
       "  'eval_score': 1,\n",
       "  'profile_match': 1},\n",
       " {'dialog_id': '0x7470f02a',\n",
       "  'dialog': [{'id': 0,\n",
       "    'sender': 'participant1',\n",
       "    'text': 'Hello',\n",
       "    'sender_class': 'Human'}],\n",
       "  'bot_profile': ['i am 40 years old.',\n",
       "   'i work as a car salesman.',\n",
       "   'my wife spends all my money.',\n",
       "   'i hate my job.',\n",
       "   \"i'm planning on getting a divorce.\"],\n",
       "  'user_profile': ['i work for our local supermarket.',\n",
       "   'my favorite band is the who.',\n",
       "   'i have never been out of ohio.',\n",
       "   'my favorite food is pizza with black olives.'],\n",
       "  'eval_score': 1,\n",
       "  'profile_match': 1}]"
      ]
     },
     "execution_count": 2,
     "metadata": {},
     "output_type": "execute_result"
    }
   ],
   "source": [
    "data[:5]"
   ]
  },
  {
   "cell_type": "code",
   "execution_count": 3,
   "metadata": {},
   "outputs": [
    {
     "data": {
      "text/plain": [
       "{'dialog_id': '0xab38710',\n",
       " 'dialog': [{'id': 0,\n",
       "   'sender': 'participant2',\n",
       "   'text': 'I love iphone! i just bought new iphone!',\n",
       "   'sender_class': 'Bot'},\n",
       "  {'id': 1,\n",
       "   'sender': 'participant1',\n",
       "   'text': \"Thats good for you, i'm not very into new tech\",\n",
       "   'sender_class': 'Human'},\n",
       "  {'id': 2,\n",
       "   'sender': 'participant2',\n",
       "   'text': 'I am a college student and i am a college student',\n",
       "   'sender_class': 'Bot'},\n",
       "  {'id': 3,\n",
       "   'sender': 'participant1',\n",
       "   'text': 'I am go to gym and live on donations',\n",
       "   'sender_class': 'Human'},\n",
       "  {'id': 4,\n",
       "   'sender': 'participant2',\n",
       "   'text': 'I am a vegan and i am in the midwest',\n",
       "   'sender_class': 'Bot'},\n",
       "  {'id': 5,\n",
       "   'sender': 'participant1',\n",
       "   'text': 'So vegan... i have dogs maybe i should told then that they may eat cheap salads insted of meat',\n",
       "   'sender_class': 'Human'},\n",
       "  {'id': 6,\n",
       "   'sender': 'participant2',\n",
       "   'text': 'I would not mind having them in the office that would be hard for me',\n",
       "   'sender_class': 'Bot'},\n",
       "  {'id': 7,\n",
       "   'sender': 'participant1',\n",
       "   'text': 'Dogs or vegan in office?',\n",
       "   'sender_class': 'Human'},\n",
       "  {'id': 8,\n",
       "   'sender': 'participant2',\n",
       "   'text': 'I am a vegetarian so i am vegan',\n",
       "   'sender_class': 'Bot'},\n",
       "  {'id': 9,\n",
       "   'sender': 'participant1',\n",
       "   'text': 'Strange answer',\n",
       "   'sender_class': 'Human'},\n",
       "  {'id': 10,\n",
       "   'sender': 'participant2',\n",
       "   'text': 'I guess i just do not know what to ps4 experience with.',\n",
       "   'sender_class': 'Bot'}],\n",
       " 'bot_profile': ['i have amazing children and grandchildren.',\n",
       "  'i can sew my own clothes.',\n",
       "  'i had cancer but its gone now.',\n",
       "  'i am retired and living the great life.',\n",
       "  'i do not have a smartphone.'],\n",
       " 'user_profile': ['two dogs live with me.',\n",
       "  'i like doing the treadmill and rowing machine.',\n",
       "  \"eating is something i do when i'm bored.\",\n",
       "  'i have short hair.',\n",
       "  'i go to the gym regularly.'],\n",
       " 'eval_score': 1,\n",
       " 'profile_match': 0}"
      ]
     },
     "execution_count": 3,
     "metadata": {},
     "output_type": "execute_result"
    }
   ],
   "source": [
    "data[0]"
   ]
  },
  {
   "cell_type": "code",
   "execution_count": 4,
   "metadata": {},
   "outputs": [
    {
     "data": {
      "text/plain": [
       "3495"
      ]
     },
     "execution_count": 4,
     "metadata": {},
     "output_type": "execute_result"
    }
   ],
   "source": [
    "# A list contain 3495 dictionaries\n",
    "# each distionary represent one comlete conversation\n",
    "# Data contains a list of dictionaries\n",
    "# A dictionary has a list and it also has many dictionaries \n",
    "len(data)"
   ]
  },
  {
   "cell_type": "markdown",
   "metadata": {},
   "source": [
    "# Data ectraction function"
   ]
  },
  {
   "cell_type": "code",
   "execution_count": 5,
   "metadata": {},
   "outputs": [],
   "source": [
    "import json\n",
    "def get_extracted_data_list(rawDataFileJSON):    \n",
    "    with open(rawDataFileJSON) as file_object:\n",
    "        data = json.load(file_object)\n",
    "    extracted_conv_msgz = []\n",
    "    for dictionary in data:\n",
    "        for nestedDict in dictionary['dialog']:\n",
    "            extracted_conv_msgz.append(nestedDict['text'])\n",
    "    return extracted_conv_msgz"
   ]
  },
  {
   "cell_type": "code",
   "execution_count": 6,
   "metadata": {},
   "outputs": [
    {
     "data": {
      "text/plain": [
       "['I love iphone! i just bought new iphone!',\n",
       " \"Thats good for you, i'm not very into new tech\",\n",
       " 'I am a college student and i am a college student',\n",
       " 'I am go to gym and live on donations',\n",
       " 'I am a vegan and i am in the midwest']"
      ]
     },
     "execution_count": 6,
     "metadata": {},
     "output_type": "execute_result"
    }
   ],
   "source": [
    "# Extracting first json file\n",
    "dialogs_list_1 = get_extracted_data_list('new_raw_data1.json')\n",
    "dialogs_list_1[:5]"
   ]
  },
  {
   "cell_type": "code",
   "execution_count": 7,
   "metadata": {},
   "outputs": [
    {
     "data": {
      "text/plain": [
       "['Are u there?',\n",
       " 'Hey! What are you doing? 🧐.\\nShort bio: i help tend fields, my father is farmer',\n",
       " 'Hi! \\nHow are you? 😉',\n",
       " 'Hi! How are you?',\n",
       " 'I am doing well. How are you?']"
      ]
     },
     "execution_count": 7,
     "metadata": {},
     "output_type": "execute_result"
    }
   ],
   "source": [
    "# Extracting second json file\n",
    "dialogs_list_2 = get_extracted_data_list('new_raw_data2.json')\n",
    "dialogs_list_2[:5]"
   ]
  },
  {
   "cell_type": "code",
   "execution_count": 8,
   "metadata": {},
   "outputs": [
    {
     "data": {
      "text/plain": [
       "['hi there',\n",
       " 'Hello!',\n",
       " 'Hi! How are you?',\n",
       " 'Not bad! And You?',\n",
       " \"I'm doing well. Just got engaged to my high school sweetheart.\"]"
      ]
     },
     "execution_count": 8,
     "metadata": {},
     "output_type": "execute_result"
    }
   ],
   "source": [
    "# Extracting third json file\n",
    "dialogs_list_3 = get_extracted_data_list('new_raw_data3.json')\n",
    "dialogs_list_3[:5]"
   ]
  },
  {
   "cell_type": "code",
   "execution_count": 9,
   "metadata": {},
   "outputs": [
    {
     "data": {
      "text/plain": [
       "['How’s it going?',\n",
       " 'i listen to rap music. you?',\n",
       " 'I am a big fan of rap music',\n",
       " 'What is your favorite singer?',\n",
       " 'I like to listen to music while I work']"
      ]
     },
     "execution_count": 9,
     "metadata": {},
     "output_type": "execute_result"
    }
   ],
   "source": [
    "# Extracting third json file\n",
    "dialogs_list_4 = get_extracted_data_list('new_raw_data4.json')\n",
    "dialogs_list_4[:5]"
   ]
  },
  {
   "cell_type": "code",
   "execution_count": 10,
   "metadata": {},
   "outputs": [
    {
     "name": "stdout",
     "output_type": "stream",
     "text": [
      "47234\n",
      "4316\n",
      "14623\n",
      "21081\n",
      "Total dialogs in all three lists: 87254\n"
     ]
    }
   ],
   "source": [
    "# Checking the no of dialogs in each list and in total\n",
    "print(len(dialogs_list_1))\n",
    "print(len(dialogs_list_2))\n",
    "print(len(dialogs_list_3))\n",
    "print(len(dialogs_list_4))\n",
    "total = sum([len(dialogs_list_1), len(dialogs_list_2), len(dialogs_list_3), len(dialogs_list_4)])\n",
    "print(\"Total dialogs in all three lists: \"+ str(total))"
   ]
  },
  {
   "cell_type": "code",
   "execution_count": null,
   "metadata": {},
   "outputs": [],
   "source": []
  },
  {
   "cell_type": "code",
   "execution_count": null,
   "metadata": {},
   "outputs": [],
   "source": []
  }
 ],
 "metadata": {
  "kernelspec": {
   "display_name": "Python 3",
   "language": "python",
   "name": "python3"
  },
  "language_info": {
   "codemirror_mode": {
    "name": "ipython",
    "version": 3
   },
   "file_extension": ".py",
   "mimetype": "text/x-python",
   "name": "python",
   "nbconvert_exporter": "python",
   "pygments_lexer": "ipython3",
   "version": "3.7.1"
  }
 },
 "nbformat": 4,
 "nbformat_minor": 2
}
