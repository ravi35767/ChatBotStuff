{
 "cells": [
  {
   "cell_type": "code",
   "execution_count": 20,
   "metadata": {},
   "outputs": [
    {
     "name": "stdout",
     "output_type": "stream",
     "text": [
      "{'query': 'What is the weather in Multan', 'topScoringIntent': {'intent': 'weather', 'score': 0.530304968}, 'intents': [{'intent': 'weather', 'score': 0.530304968}, {'intent': 'product_price', 'score': 0.133406371}, {'intent': 'None', 'score': 0.02130369}], 'entities': [{'entity': 'multan', 'type': 'city', 'startIndex': 23, 'endIndex': 28, 'score': 0.8779823}]}\n"
     ]
    }
   ],
   "source": [
    "import requests\n",
    "\n",
    "try:\n",
    "\n",
    "    key = 'bace1073ccfc45e1a901ce76b045ada7' # your Runtime key\n",
    "    endpoint = 'westus.api.cognitive.microsoft.com/luis/api/v2.0' # such as 'your-resource-name.api.cognitive.microsoft.com'\n",
    "    appId = '9c64f53f-f2e6-4086-8826-f4a99321387c'\n",
    "    utterance = 'What is the price of the Jeans'\n",
    "    \n",
    "    headers = {\n",
    "    }\n",
    "\n",
    "    params = {\n",
    "        'query': utterance,\n",
    "        'timezoneOffset': '0',\n",
    "        'verbose': 'true',\n",
    "        'show-all-intents': 'true',\n",
    "        'spellCheck': 'false',\n",
    "        'staging': 'false',\n",
    "        'subscription-key': key\n",
    "    }\n",
    "\n",
    "#     r = requests.get(f'https://{endpoint}/luis/prediction/v3.0/apps/{appId}/slots/production/predict',headers=headers, params=params)\n",
    "    r = requests.get(f'https://westus.api.cognitive.microsoft.com/luis/v2.0/apps/9c64f53f-f2e6-4086-8826-f4a99321387c?verbose=true&timezoneOffset=0&subscription-key=bace1073ccfc45e1a901ce76b045ada7&q=What is the weather in Multan')\n",
    "    print(r.json())\n",
    "\n",
    "except Exception as e:\n",
    "    print(f'{e}')"
   ]
  },
  {
   "cell_type": "code",
   "execution_count": null,
   "metadata": {},
   "outputs": [],
   "source": []
  }
 ],
 "metadata": {
  "kernelspec": {
   "display_name": "Python 3",
   "language": "python",
   "name": "python3"
  },
  "language_info": {
   "codemirror_mode": {
    "name": "ipython",
    "version": 3
   },
   "file_extension": ".py",
   "mimetype": "text/x-python",
   "name": "python",
   "nbconvert_exporter": "python",
   "pygments_lexer": "ipython3",
   "version": "3.7.1"
  }
 },
 "nbformat": 4,
 "nbformat_minor": 2
}
