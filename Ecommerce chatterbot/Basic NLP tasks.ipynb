{
 "cells": [
  {
   "cell_type": "code",
   "execution_count": 2,
   "metadata": {},
   "outputs": [
    {
     "data": {
      "text/plain": [
       "['Hello',\n",
       " '!',\n",
       " 'how',\n",
       " 'are',\n",
       " 'you',\n",
       " 'Hope',\n",
       " 'you',\n",
       " 'are',\n",
       " 'doing',\n",
       " 'good',\n",
       " ',',\n",
       " 'I',\n",
       " 'am',\n",
       " 'searching',\n",
       " 'for',\n",
       " 'a',\n",
       " 'phone',\n",
       " 'can',\n",
       " 'you',\n",
       " 'suggest',\n",
       " 'me',\n",
       " 'a',\n",
       " 'good',\n",
       " 'smart',\n",
       " 'phone']"
      ]
     },
     "execution_count": 2,
     "metadata": {},
     "output_type": "execute_result"
    }
   ],
   "source": [
    "# Words tokenization\n",
    "from nltk.tokenize import word_tokenize\n",
    "sentence = \"Hello! how are you Hope you are doing good, I am searching for a phone can you suggest me a good smart phone\"\n",
    "word_tokens = word_tokenize(sentence)\n",
    "word_tokens"
   ]
  },
  {
   "cell_type": "code",
   "execution_count": 8,
   "metadata": {},
   "outputs": [
    {
     "data": {
      "text/plain": [
       "['Good morning!',\n",
       " 'I want to buy some electronics appliances for my home.',\n",
       " 'Can you suggest me the best oven within a price of 20,000.']"
      ]
     },
     "execution_count": 8,
     "metadata": {},
     "output_type": "execute_result"
    }
   ],
   "source": [
    "# Sentence Tokenization\n",
    "from nltk.tokenize import sent_tokenize\n",
    "sentences = \"Good morning! I want to buy some electronics appliances for my home. Can you suggest me the best oven within a price of 20,000.\"\n",
    "sentence_tokens = sent_tokenize(sentences)\n",
    "sentence_tokens"
   ]
  },
  {
   "cell_type": "code",
   "execution_count": 10,
   "metadata": {},
   "outputs": [
    {
     "name": "stdout",
     "output_type": "stream",
     "text": [
      "['i', 'me', 'my', 'myself', 'we', 'our', 'ours', 'ourselves', 'you', \"you're\", \"you've\", \"you'll\", \"you'd\", 'your', 'yours', 'yourself', 'yourselves', 'he', 'him', 'his', 'himself', 'she', \"she's\", 'her', 'hers', 'herself', 'it', \"it's\", 'its', 'itself', 'they', 'them', 'their', 'theirs', 'themselves', 'what', 'which', 'who', 'whom', 'this', 'that', \"that'll\", 'these', 'those', 'am', 'is', 'are', 'was', 'were', 'be', 'been', 'being', 'have', 'has', 'had', 'having', 'do', 'does', 'did', 'doing', 'a', 'an', 'the', 'and', 'but', 'if', 'or', 'because', 'as', 'until', 'while', 'of', 'at', 'by', 'for', 'with', 'about', 'against', 'between', 'into', 'through', 'during', 'before', 'after', 'above', 'below', 'to', 'from', 'up', 'down', 'in', 'out', 'on', 'off', 'over', 'under', 'again', 'further', 'then', 'once', 'here', 'there', 'when', 'where', 'why', 'how', 'all', 'any', 'both', 'each', 'few', 'more', 'most', 'other', 'some', 'such', 'no', 'nor', 'not', 'only', 'own', 'same', 'so', 'than', 'too', 'very', 's', 't', 'can', 'will', 'just', 'don', \"don't\", 'should', \"should've\", 'now', 'd', 'll', 'm', 'o', 're', 've', 'y', 'ain', 'aren', \"aren't\", 'couldn', \"couldn't\", 'didn', \"didn't\", 'doesn', \"doesn't\", 'hadn', \"hadn't\", 'hasn', \"hasn't\", 'haven', \"haven't\", 'isn', \"isn't\", 'ma', 'mightn', \"mightn't\", 'mustn', \"mustn't\", 'needn', \"needn't\", 'shan', \"shan't\", 'shouldn', \"shouldn't\", 'wasn', \"wasn't\", 'weren', \"weren't\", 'won', \"won't\", 'wouldn', \"wouldn't\"]\n",
      "179\n"
     ]
    }
   ],
   "source": [
    "# English Language Stop words in nltk library \n",
    "import nltk\n",
    "from nltk.corpus import stopwords\n",
    "print(stopwords.words('english'))\n",
    "print(len(stopwords.words('english')))"
   ]
  },
  {
   "cell_type": "code",
   "execution_count": 3,
   "metadata": {},
   "outputs": [
    {
     "data": {
      "text/plain": [
       "['Hello',\n",
       " '!',\n",
       " 'Hope',\n",
       " 'good',\n",
       " ',',\n",
       " 'I',\n",
       " 'searching',\n",
       " 'phone',\n",
       " 'suggest',\n",
       " 'good',\n",
       " 'smart',\n",
       " 'phone']"
      ]
     },
     "execution_count": 3,
     "metadata": {},
     "output_type": "execute_result"
    }
   ],
   "source": [
    "# Removing stop words from tokens list\n",
    "\n",
    "from nltk.corpus import stopwords \n",
    "stop_words = set(stopwords.words('english')) \n",
    "# sentence = \"Hello! how are you Hope you are doing good, I am searching for a phone can you suggest me a good smart phone.\"\n",
    "word_tokens = word_tokenize(sentence)\n",
    "filtered_tokens = [token for token in word_tokens if token not in stop_words]\n",
    "filtered_tokens"
   ]
  },
  {
   "cell_type": "code",
   "execution_count": 37,
   "metadata": {},
   "outputs": [
    {
     "data": {
      "text/plain": [
       "['Hello',\n",
       " 'Hope',\n",
       " 'good',\n",
       " 'I',\n",
       " 'searching',\n",
       " 'phone',\n",
       " 'suggest',\n",
       " 'good',\n",
       " 'smart',\n",
       " 'phone']"
      ]
     },
     "execution_count": 37,
     "metadata": {},
     "output_type": "execute_result"
    }
   ],
   "source": [
    "#  Removing punctuation from filtered sentence after removing stop words\n",
    "filtered_tokens = [token for token in filtered_tokens if token.isalpha()]\n",
    "filtered_tokens"
   ]
  },
  {
   "cell_type": "code",
   "execution_count": 42,
   "metadata": {},
   "outputs": [
    {
     "name": "stdout",
     "output_type": "stream",
     "text": [
      "Original tokens: ['likes', 'like', 'liked', 'likely', 'liking']\n",
      "Porter stemmer result: ['like', 'like', 'like', 'like', 'like']\n",
      "Lancaster stemmer result: ['lik', 'lik', 'lik', 'lik', 'lik']\n"
     ]
    }
   ],
   "source": [
    "# Then performing stemming on filtered sentence\n",
    "# There are two types of stemmer in nltk\n",
    "from nltk.stem import PorterStemmer, LancasterStemmer\n",
    "tokens = ['likes', 'like', 'liked', 'likely', 'liking']\n",
    "ps = PorterStemmer()\n",
    "ls = LancasterStemmer()\n",
    "words_stem_porter = []\n",
    "words_stem_Lancaster = []\n",
    "for token in tokens:\n",
    "    words_stem_porter.append(ps.stem(token))\n",
    "    words_stem_Lancaster.append(ls.stem(token))\n",
    "print(\"Original tokens:\" , tokens)\n",
    "print(\"Porter stemmer result:\", words_stem_porter)\n",
    "print(\"Lancaster stemmer result:\", words_stem_Lancaster)"
   ]
  },
  {
   "cell_type": "code",
   "execution_count": 44,
   "metadata": {},
   "outputs": [
    {
     "data": {
      "text/plain": [
       "['like', 'like', 'liked', 'likely', 'liking']"
      ]
     },
     "execution_count": 44,
     "metadata": {},
     "output_type": "execute_result"
    }
   ],
   "source": [
    "# Then performing lemmatization on filtered sentence\n",
    "from nltk.stem import WordNetLemmatizer\n",
    "tokens = ['likes', 'like', 'liked', 'likely', 'liking']\n",
    "lemmatizer = WordNetLemmatizer() \n",
    "word_lemma  = []\n",
    "for token in tokens:\n",
    "    word_lemma.append(lemmatizer.lemmatize(token))\n",
    "word_lemma"
   ]
  },
  {
   "cell_type": "code",
   "execution_count": 1,
   "metadata": {},
   "outputs": [],
   "source": [
    "# Word2Vec (spacy) SpacyFeaturizer()\n",
    "# to convert words to numbers. During this process the tokens are mapped in a N-Dimensional space\n",
    "# https://medium.com/bhavaniravi/demystifying-rasa-nlu-1-training-91a08429c9fb"
   ]
  },
  {
   "cell_type": "code",
   "execution_count": 2,
   "metadata": {},
   "outputs": [],
   "source": [
    "# Labeling Features\n",
    "# we don’t convert labels into word2vectors rather assign a unique number to it. This process is called as encoding.\n"
   ]
  },
  {
   "cell_type": "code",
   "execution_count": null,
   "metadata": {},
   "outputs": [],
   "source": [
    "# Intent Classification\n",
    "# 3.7 SklearnIntentClassifier\n",
    "# This classifier uses sklearn SVC with GridSearch with intent_names as labels after a LabelEncoding and text_features \n",
    "# generated by the featurizer as data to generate a ML model."
   ]
  }
 ],
 "metadata": {
  "kernelspec": {
   "display_name": "Python 3",
   "language": "python",
   "name": "python3"
  },
  "language_info": {
   "codemirror_mode": {
    "name": "ipython",
    "version": 3
   },
   "file_extension": ".py",
   "mimetype": "text/x-python",
   "name": "python",
   "nbconvert_exporter": "python",
   "pygments_lexer": "ipython3",
   "version": "3.7.1"
  }
 },
 "nbformat": 4,
 "nbformat_minor": 2
}
